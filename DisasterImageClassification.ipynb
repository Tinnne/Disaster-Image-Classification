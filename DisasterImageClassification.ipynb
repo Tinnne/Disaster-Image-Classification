{
 "cells": [
  {
   "cell_type": "markdown",
   "id": "fd0e7c72",
   "metadata": {},
   "source": [
    "# Disaster Image Classification\n",
    "\n",
    "Made By:\n",
    "- Austin Kane - 27022229232\n",
    "- Andreas Immanuel Lukito - 2702211595"
   ]
  },
  {
   "cell_type": "code",
   "execution_count": 1,
   "id": "bab04e2f",
   "metadata": {},
   "outputs": [],
   "source": [
    "from tensorflow.keras.preprocessing.image import ImageDataGenerator\n",
    "from tensorflow.keras.applications import MobileNetV2, EfficientNetB0, EfficientNetB2\n",
    "from tensorflow.keras.layers import Dense, GlobalAveragePooling2D, Dropout\n",
    "from tensorflow.keras.models import Model\n",
    "import os"
   ]
  },
  {
   "cell_type": "markdown",
   "id": "1d81d830",
   "metadata": {},
   "source": [
    "## Set the Parameters"
   ]
  },
  {
   "cell_type": "code",
   "execution_count": null,
   "id": "35c7b249",
   "metadata": {},
   "outputs": [],
   "source": [
    "IMAGE_SIZE = (224, 224) # MobileNetV2's input size is 224x224 \n",
    "BATCH_SIZE = 32 \n",
    "NUM_CLASSES = 4 # 4 classes of data\n",
    "DATA_DIR = 'Data'"
   ]
  },
  {
   "cell_type": "code",
   "execution_count": 13,
   "id": "ec8252b0",
   "metadata": {},
   "outputs": [],
   "source": [
    "datagen = ImageDataGenerator(\n",
    "    rescale=1./255,\n",
    "    validation_split=0.2,\n",
    "    horizontal_flip=True,\n",
    "    rotation_range=20,\n",
    "    zoom_range=0.2\n",
    ")"
   ]
  },
  {
   "cell_type": "code",
   "execution_count": 14,
   "id": "8ee52680",
   "metadata": {},
   "outputs": [
    {
     "name": "stdout",
     "output_type": "stream",
     "text": [
      "Found 2754 images belonging to 4 classes.\n"
     ]
    }
   ],
   "source": [
    "train_generator = datagen.flow_from_directory(\n",
    "    DATA_DIR,\n",
    "    target_size=IMAGE_SIZE,\n",
    "    batch_size=BATCH_SIZE,\n",
    "    class_mode='categorical',\n",
    "    subset='training',\n",
    "    shuffle=True\n",
    ")"
   ]
  },
  {
   "cell_type": "code",
   "execution_count": null,
   "id": "4221da1a",
   "metadata": {},
   "outputs": [
    {
     "name": "stdout",
     "output_type": "stream",
     "text": [
      "Found 686 images belonging to 4 classes.\n"
     ]
    }
   ],
   "source": [
    "val_generator = datagen.flow_from_directory(\n",
    "    DATA_DIR,\n",
    "    target_size=IMAGE_SIZE,\n",
    "    batch_size=BATCH_SIZE,\n",
    "    class_mode='categorical',\n",
    "    subset='validation',\n",
    "    shuffle=False\n",
    ")"
   ]
  },
  {
   "cell_type": "code",
   "execution_count": 24,
   "id": "9d87ed1c",
   "metadata": {},
   "outputs": [],
   "source": [
    "base_model = MobileNetV2(\n",
    "    weights='imagenet',\n",
    "    include_top=False,\n",
    "    input_shape=(*IMAGE_SIZE, 3)\n",
    ")\n",
    "base_model.trainable = False"
   ]
  },
  {
   "cell_type": "code",
   "execution_count": 25,
   "id": "a3bd606a",
   "metadata": {},
   "outputs": [],
   "source": [
    "x = base_model.output\n",
    "x = GlobalAveragePooling2D()(x)\n",
    "x = Dropout(0.3)(x)\n",
    "x = Dense(128, activation='relu')(x)\n",
    "x = Dropout(0.3)(x)\n",
    "predictions = Dense(NUM_CLASSES, activation='softmax')(x)\n",
    "\n",
    "MobileNet = Model(inputs=base_model.input, outputs=predictions)"
   ]
  },
  {
   "cell_type": "code",
   "execution_count": 26,
   "id": "1650ffa0",
   "metadata": {},
   "outputs": [],
   "source": [
    "MobileNet.compile(optimizer='adam',\n",
    "              loss='categorical_crossentropy',\n",
    "              metrics=['accuracy'])\n"
   ]
  },
  {
   "cell_type": "code",
   "execution_count": 27,
   "id": "9cfbe3c8",
   "metadata": {},
   "outputs": [],
   "source": [
    "from PIL import ImageFile\n",
    "ImageFile.LOAD_TRUNCATED_IMAGES = True"
   ]
  },
  {
   "cell_type": "code",
   "execution_count": 28,
   "id": "7130b7f7",
   "metadata": {},
   "outputs": [
    {
     "name": "stdout",
     "output_type": "stream",
     "text": [
      "Epoch 1/10\n",
      "87/87 [==============================] - 51s 586ms/step - loss: 0.9058 - accuracy: 0.6630 - val_loss: 0.6034 - val_accuracy: 0.8047\n",
      "Epoch 2/10\n",
      "87/87 [==============================] - 50s 570ms/step - loss: 0.6544 - accuracy: 0.7618 - val_loss: 0.5388 - val_accuracy: 0.8090\n",
      "Epoch 3/10\n",
      "87/87 [==============================] - 48s 547ms/step - loss: 0.5856 - accuracy: 0.7803 - val_loss: 0.5060 - val_accuracy: 0.8149\n",
      "Epoch 4/10\n",
      "87/87 [==============================] - 48s 548ms/step - loss: 0.5520 - accuracy: 0.7981 - val_loss: 0.4827 - val_accuracy: 0.8236\n",
      "Epoch 5/10\n",
      "87/87 [==============================] - 47s 545ms/step - loss: 0.5418 - accuracy: 0.7985 - val_loss: 0.5449 - val_accuracy: 0.7930\n",
      "Epoch 6/10\n",
      "87/87 [==============================] - 49s 564ms/step - loss: 0.5177 - accuracy: 0.8003 - val_loss: 0.5500 - val_accuracy: 0.7945\n",
      "Epoch 7/10\n",
      "87/87 [==============================] - 50s 570ms/step - loss: 0.4942 - accuracy: 0.8123 - val_loss: 0.5209 - val_accuracy: 0.8178\n",
      "Epoch 8/10\n",
      "87/87 [==============================] - 49s 563ms/step - loss: 0.4797 - accuracy: 0.8221 - val_loss: 0.4645 - val_accuracy: 0.8265\n",
      "Epoch 9/10\n",
      "87/87 [==============================] - 51s 581ms/step - loss: 0.4791 - accuracy: 0.8192 - val_loss: 0.4790 - val_accuracy: 0.8397\n",
      "Epoch 10/10\n",
      "87/87 [==============================] - 48s 551ms/step - loss: 0.4727 - accuracy: 0.8203 - val_loss: 0.5029 - val_accuracy: 0.8163\n"
     ]
    }
   ],
   "source": [
    "history = MobileNet.fit(\n",
    "    train_generator,\n",
    "    epochs=10,\n",
    "    validation_data=val_generator\n",
    ")"
   ]
  },
  {
   "cell_type": "code",
   "execution_count": null,
   "id": "99f4ca5f",
   "metadata": {},
   "outputs": [
    {
     "name": "stdout",
     "output_type": "stream",
     "text": [
      "22/22 [==============================] - 9s 407ms/step - loss: 0.4665 - accuracy: 0.8222\n",
      "Validation Accuracy: 0.8222\n"
     ]
    }
   ],
   "source": [
    "loss, acc = MobileNet.evaluate(val_generator)\n",
    "print(f\"Validation Accuracy: {acc:.4f}\")"
   ]
  },
  {
   "cell_type": "markdown",
   "id": "fe0581d0",
   "metadata": {},
   "source": [
    "## EfficientNetB0"
   ]
  },
  {
   "cell_type": "code",
   "execution_count": 33,
   "id": "bc375800",
   "metadata": {},
   "outputs": [],
   "source": [
    "base_model = EfficientNetB0(\n",
    "    weights='imagenet',\n",
    "    include_top=False,\n",
    "    input_shape=(*IMAGE_SIZE, 3)\n",
    ")\n",
    "base_model.trainable = False"
   ]
  },
  {
   "cell_type": "code",
   "execution_count": 34,
   "id": "73fdb85a",
   "metadata": {},
   "outputs": [],
   "source": [
    "x = base_model.output\n",
    "x = GlobalAveragePooling2D()(x)\n",
    "x = Dropout(0.3)(x)\n",
    "x = Dense(128, activation='relu')(x)\n",
    "x = Dropout(0.3)(x)\n",
    "predictions = Dense(NUM_CLASSES, activation='softmax')(x)\n",
    "\n",
    "EffNetB0 = Model(inputs=base_model.input, outputs=predictions)"
   ]
  },
  {
   "cell_type": "code",
   "execution_count": 35,
   "id": "b846218b",
   "metadata": {},
   "outputs": [],
   "source": [
    "EffNetB0.compile(optimizer='adam',\n",
    "              loss='categorical_crossentropy',\n",
    "              metrics=['accuracy'])"
   ]
  },
  {
   "cell_type": "code",
   "execution_count": 36,
   "id": "41c333d4",
   "metadata": {},
   "outputs": [
    {
     "name": "stdout",
     "output_type": "stream",
     "text": [
      "Epoch 1/10\n",
      "87/87 [==============================] - 59s 684ms/step - loss: 1.2714 - accuracy: 0.4365 - val_loss: 1.2420 - val_accuracy: 0.4475\n",
      "Epoch 2/10\n",
      "87/87 [==============================] - 59s 675ms/step - loss: 1.2566 - accuracy: 0.4434 - val_loss: 1.2448 - val_accuracy: 0.4475\n",
      "Epoch 3/10\n",
      "87/87 [==============================] - 58s 662ms/step - loss: 1.2544 - accuracy: 0.4473 - val_loss: 1.2444 - val_accuracy: 0.4475\n",
      "Epoch 4/10\n",
      "87/87 [==============================] - 59s 681ms/step - loss: 1.2541 - accuracy: 0.4463 - val_loss: 1.2415 - val_accuracy: 0.4475\n",
      "Epoch 5/10\n",
      "87/87 [==============================] - 57s 660ms/step - loss: 1.2531 - accuracy: 0.4466 - val_loss: 1.2421 - val_accuracy: 0.4475\n",
      "Epoch 6/10\n",
      "87/87 [==============================] - 58s 672ms/step - loss: 1.2505 - accuracy: 0.4466 - val_loss: 1.2422 - val_accuracy: 0.4475\n",
      "Epoch 7/10\n",
      "87/87 [==============================] - 61s 705ms/step - loss: 1.2566 - accuracy: 0.4466 - val_loss: 1.2414 - val_accuracy: 0.4475\n",
      "Epoch 8/10\n",
      "87/87 [==============================] - 63s 718ms/step - loss: 1.2507 - accuracy: 0.4466 - val_loss: 1.2413 - val_accuracy: 0.4475\n",
      "Epoch 9/10\n",
      "87/87 [==============================] - 61s 697ms/step - loss: 1.2483 - accuracy: 0.4444 - val_loss: 1.2424 - val_accuracy: 0.4475\n",
      "Epoch 10/10\n",
      "87/87 [==============================] - 59s 673ms/step - loss: 1.2473 - accuracy: 0.4466 - val_loss: 1.2427 - val_accuracy: 0.4475\n"
     ]
    }
   ],
   "source": [
    "history = EffNetB0.fit(\n",
    "    train_generator,\n",
    "    epochs=10,\n",
    "    validation_data=val_generator\n",
    ")"
   ]
  },
  {
   "cell_type": "code",
   "execution_count": 37,
   "id": "64dbf003",
   "metadata": {},
   "outputs": [
    {
     "name": "stdout",
     "output_type": "stream",
     "text": [
      "22/22 [==============================] - 11s 509ms/step - loss: 1.2427 - accuracy: 0.4475\n",
      "Validation Accuracy: 0.4475\n"
     ]
    }
   ],
   "source": [
    "loss, acc = EffNetB0.evaluate(val_generator)\n",
    "print(f\"Validation Accuracy: {acc:.4f}\")"
   ]
  },
  {
   "cell_type": "markdown",
   "id": "b4daec05",
   "metadata": {},
   "source": [
    "## EfficientNetB2"
   ]
  },
  {
   "cell_type": "code",
   "execution_count": 2,
   "id": "7580e81a",
   "metadata": {},
   "outputs": [],
   "source": [
    "IMAGE_SIZE = (260, 260) # EfficientNetB2's input size is 224x224 \n",
    "BATCH_SIZE = 32 \n",
    "NUM_CLASSES = 4 # 4 classes of data\n",
    "DATA_DIR = 'Data'"
   ]
  },
  {
   "cell_type": "code",
   "execution_count": 3,
   "id": "27fd1018",
   "metadata": {},
   "outputs": [],
   "source": [
    "datagen = ImageDataGenerator(\n",
    "    rescale=1./255,\n",
    "    validation_split=0.2,\n",
    "    horizontal_flip=True,\n",
    "    rotation_range=20,\n",
    "    zoom_range=0.2\n",
    ")"
   ]
  },
  {
   "cell_type": "code",
   "execution_count": 4,
   "id": "16c431aa",
   "metadata": {},
   "outputs": [
    {
     "name": "stdout",
     "output_type": "stream",
     "text": [
      "Found 2754 images belonging to 4 classes.\n"
     ]
    }
   ],
   "source": [
    "train_generator = datagen.flow_from_directory(\n",
    "    DATA_DIR,\n",
    "    target_size=IMAGE_SIZE,\n",
    "    batch_size=BATCH_SIZE,\n",
    "    class_mode='categorical',\n",
    "    subset='training',\n",
    "    shuffle=True\n",
    ")"
   ]
  },
  {
   "cell_type": "code",
   "execution_count": 5,
   "id": "dc2788d6",
   "metadata": {},
   "outputs": [
    {
     "name": "stdout",
     "output_type": "stream",
     "text": [
      "Found 686 images belonging to 4 classes.\n"
     ]
    }
   ],
   "source": [
    "val_generator = datagen.flow_from_directory(\n",
    "    DATA_DIR,\n",
    "    target_size=IMAGE_SIZE,\n",
    "    batch_size=BATCH_SIZE,\n",
    "    class_mode='categorical',\n",
    "    subset='validation',\n",
    "    shuffle=False\n",
    ")"
   ]
  },
  {
   "cell_type": "code",
   "execution_count": 42,
   "id": "c522d977",
   "metadata": {},
   "outputs": [
    {
     "name": "stdout",
     "output_type": "stream",
     "text": [
      "Downloading data from https://storage.googleapis.com/keras-applications/efficientnetb2_notop.h5\n",
      "31793152/31790344 [==============================] - 3s 0us/step\n"
     ]
    }
   ],
   "source": [
    "base_model = EfficientNetB2(\n",
    "    weights='imagenet',\n",
    "    include_top=False,\n",
    "    input_shape=(*IMAGE_SIZE, 3)\n",
    ")\n",
    "base_model.trainable = False"
   ]
  },
  {
   "cell_type": "code",
   "execution_count": 43,
   "id": "fdc861e8",
   "metadata": {},
   "outputs": [],
   "source": [
    "x = base_model.output\n",
    "x = GlobalAveragePooling2D()(x)\n",
    "x = Dropout(0.3)(x)\n",
    "x = Dense(128, activation='relu')(x)\n",
    "x = Dropout(0.3)(x)\n",
    "predictions = Dense(NUM_CLASSES, activation='softmax')(x)\n",
    "\n",
    "EffNetB2 = Model(inputs=base_model.input, outputs=predictions)"
   ]
  },
  {
   "cell_type": "code",
   "execution_count": 44,
   "id": "4c1953b0",
   "metadata": {},
   "outputs": [],
   "source": [
    "EffNetB2.compile(optimizer='adam',\n",
    "              loss='categorical_crossentropy',\n",
    "              metrics=['accuracy'])"
   ]
  },
  {
   "cell_type": "code",
   "execution_count": 45,
   "id": "048c5051",
   "metadata": {},
   "outputs": [
    {
     "name": "stdout",
     "output_type": "stream",
     "text": [
      "Epoch 1/10\n",
      "87/87 [==============================] - 97s 1s/step - loss: 1.2705 - accuracy: 0.4230 - val_loss: 1.2530 - val_accuracy: 0.4475\n",
      "Epoch 2/10\n",
      "87/87 [==============================] - 92s 1s/step - loss: 1.2543 - accuracy: 0.4423 - val_loss: 1.2438 - val_accuracy: 0.4475\n",
      "Epoch 3/10\n",
      "87/87 [==============================] - 89s 1s/step - loss: 1.2570 - accuracy: 0.4383 - val_loss: 1.2435 - val_accuracy: 0.4475\n",
      "Epoch 4/10\n",
      "87/87 [==============================] - 91s 1s/step - loss: 1.2575 - accuracy: 0.4466 - val_loss: 1.2442 - val_accuracy: 0.4475\n",
      "Epoch 5/10\n",
      "87/87 [==============================] - 92s 1s/step - loss: 1.2515 - accuracy: 0.4466 - val_loss: 1.2443 - val_accuracy: 0.4475\n",
      "Epoch 6/10\n",
      "87/87 [==============================] - 89s 1s/step - loss: 1.2541 - accuracy: 0.4466 - val_loss: 1.2453 - val_accuracy: 0.4475\n",
      "Epoch 7/10\n",
      "87/87 [==============================] - 89s 1s/step - loss: 1.2534 - accuracy: 0.4466 - val_loss: 1.2506 - val_accuracy: 0.4475\n",
      "Epoch 8/10\n",
      "87/87 [==============================] - 91s 1s/step - loss: 1.2567 - accuracy: 0.4466 - val_loss: 1.2419 - val_accuracy: 0.4475\n",
      "Epoch 9/10\n",
      "87/87 [==============================] - 88s 1s/step - loss: 1.2505 - accuracy: 0.4466 - val_loss: 1.2428 - val_accuracy: 0.4475\n",
      "Epoch 10/10\n",
      "87/87 [==============================] - 93s 1s/step - loss: 1.2515 - accuracy: 0.4466 - val_loss: 1.2422 - val_accuracy: 0.4475\n"
     ]
    }
   ],
   "source": [
    "history = EffNetB2.fit(\n",
    "    train_generator,\n",
    "    epochs=10,\n",
    "    validation_data=val_generator\n",
    ")"
   ]
  },
  {
   "cell_type": "code",
   "execution_count": 46,
   "id": "200234b7",
   "metadata": {},
   "outputs": [
    {
     "name": "stdout",
     "output_type": "stream",
     "text": [
      "22/22 [==============================] - 18s 797ms/step - loss: 1.2423 - accuracy: 0.4475\n",
      "Validation Accuracy: 0.4475\n"
     ]
    }
   ],
   "source": [
    "loss, acc = EffNetB2.evaluate(val_generator)\n",
    "print(f\"Validation Accuracy: {acc:.4f}\")"
   ]
  },
  {
   "cell_type": "code",
   "execution_count": null,
   "id": "ca6fed56",
   "metadata": {},
   "outputs": [],
   "source": []
  }
 ],
 "metadata": {
  "kernelspec": {
   "display_name": "DL",
   "language": "python",
   "name": "python3"
  },
  "language_info": {
   "codemirror_mode": {
    "name": "ipython",
    "version": 3
   },
   "file_extension": ".py",
   "mimetype": "text/x-python",
   "name": "python",
   "nbconvert_exporter": "python",
   "pygments_lexer": "ipython3",
   "version": "3.8.20"
  }
 },
 "nbformat": 4,
 "nbformat_minor": 5
}
